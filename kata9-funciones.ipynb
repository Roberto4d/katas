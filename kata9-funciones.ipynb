{
 "cells": [
  {
   "cell_type": "code",
   "execution_count": 17,
   "metadata": {},
   "outputs": [
    {
     "name": "stdout",
     "output_type": "stream",
     "text": [
      " Fuel report:    \n",
      "    Promedio Total: 71.66666666666667\n",
      "    Tanque1: 50%, Tanque2: 70% Tanque3: 95% \n",
      "    \n",
      "71.66666666666667\n"
     ]
    }
   ],
   "source": [
    "def reporte (tanque1, tanque2, tanque3):\n",
    "    return f\"\"\" Fuel report:    \n",
    "    Promedio Total: {prom([tanque1, tanque2, tanque3])}\n",
    "    Tanque1: {tanque1}%, Tanque2: {tanque2}% Tanque3: {tanque3}% \n",
    "    \"\"\"\n",
    "print(reporte(50, 70, 95))\n",
    "\n",
    "def prom(valores):\n",
    "    total = sum(valores)\n",
    "    numbero_de_tanques = len(valores)\n",
    "    return total / numbero_de_tanques\n",
    "\n",
    "print(prom([95, 50, 70]))\n"
   ]
  },
  {
   "cell_type": "code",
   "execution_count": 31,
   "metadata": {},
   "outputs": [
    {
     "name": "stdout",
     "output_type": "stream",
     "text": [
      "\n",
      "    Mision rumbo a Moon\n",
      "    Total de horas: 65 minutes\n",
      "    Total de gasolina: 110 gallons\n",
      "    \n",
      "\n",
      "    Mission to Moon\n",
      "    Total travel time: 36 minutos\n",
      "    Total fuel left: 80\n",
      "    \n",
      "\n",
      "    Mission to Moon\n",
      "    Total travel time: 74 minutes\n",
      "    Total fuel left: 500000\n",
      "    main tank --> 300000 gallons left\n",
      "external tank --> 200000 gallons left\n",
      "\n"
     ]
    }
   ],
   "source": [
    "def informe (horadeprelanzamiento, tiempodevuelo, destino, tanqueexterno, tanqueinterno):\n",
    "    return f\"\"\"\n",
    "    Mision rumbo a {destino}\n",
    "    Total de horas: {horadeprelanzamiento + tiempodevuelo} minutes\n",
    "    Total de gasolina: {tanqueexterno+ tanqueinterno} gallons\n",
    "    \"\"\"\n",
    "print(informe(14, 51, \"Moon\", 50, 60)) \n",
    "\n",
    "def informe (destino, *minutos, **tanquereservas):\n",
    "    return f\"\"\"\n",
    "    Mission to {destino}\n",
    "    Total travel time: {sum(minutos)} minutos\n",
    "    Total fuel left: {sum(tanquereservas.values())}\n",
    "    \"\"\"\n",
    "print(informe(\"Moon\", 10, 15, 11, externo=30, interno=20 , alas=30))\n",
    "\n",
    "def mission_report(destination, *minutes, **fuel_reservoirs):\n",
    "    main_report = f\"\"\"\n",
    "    Mission to {destination}\n",
    "    Total travel time: {sum(minutes)} minutes\n",
    "    Total fuel left: {sum(fuel_reservoirs.values())}\n",
    "    \"\"\"\n",
    "    for tank_name, gallons in fuel_reservoirs.items():\n",
    "        main_report += f\"{tank_name} tank --> {gallons} gallons left\\n\"\n",
    "    return main_report\n",
    "\n",
    "print(mission_report(\"Moon\", 8, 11, 55, main=300000, external=200000))"
   ]
  }
 ],
 "metadata": {
  "interpreter": {
   "hash": "aee8b7b246df8f9039afb4144a1f6fd8d2ca17a180786b69acc140d282b71a49"
  },
  "kernelspec": {
   "display_name": "Python 3.10.2 64-bit",
   "language": "python",
   "name": "python3"
  },
  "language_info": {
   "codemirror_mode": {
    "name": "ipython",
    "version": 3
   },
   "file_extension": ".py",
   "mimetype": "text/x-python",
   "name": "python",
   "nbconvert_exporter": "python",
   "pygments_lexer": "ipython3",
   "version": "3.10.2"
  },
  "orig_nbformat": 4
 },
 "nbformat": 4,
 "nbformat_minor": 2
}
