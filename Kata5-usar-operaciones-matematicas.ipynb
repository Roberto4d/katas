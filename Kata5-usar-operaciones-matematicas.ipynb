{
 "cells": [
  {
   "cell_type": "code",
   "execution_count": 27,
   "metadata": {},
   "outputs": [
    {
     "name": "stdout",
     "output_type": "stream",
     "text": [
      "628949330 km\n",
      "390577533.93 milles\n"
     ]
    }
   ],
   "source": [
    "tierra  = 149597870\n",
    "jupiter = 778547200\n",
    "millas = 0.621\n",
    "\n",
    "diference = jupiter - tierra\n",
    "print(str(diference) + \" km\")\n",
    "print(str((diference) * (millas)) + \" milles\")\n"
   ]
  },
  {
   "cell_type": "code",
   "execution_count": 32,
   "metadata": {},
   "outputs": [
    {
     "name": "stdout",
     "output_type": "stream",
     "text": [
      "4437200000\n",
      "2755501200.0\n"
     ]
    }
   ],
   "source": [
    "planetaUno = input('Introduce la distancia del sol para el planeta uno en KM')\n",
    "planetaDos = input('Introduce la distancia del sol para el planeta dos en KM')\n",
    "planetaUno = (int(planetaUno))\n",
    "planetaDos = (int(planetaDos))\n",
    "millas = 0.621\n",
    "respuestakilometros = planetaUno - planetaDos\n",
    "print(abs(respuestakilometros))\n",
    "respuestamillas = respuestakilometros * 0.621\n",
    "print(abs(respuestamillas))"
   ]
  }
 ],
 "metadata": {
  "interpreter": {
   "hash": "aee8b7b246df8f9039afb4144a1f6fd8d2ca17a180786b69acc140d282b71a49"
  },
  "kernelspec": {
   "display_name": "Python 3.10.2 64-bit",
   "language": "python",
   "name": "python3"
  },
  "language_info": {
   "codemirror_mode": {
    "name": "ipython",
    "version": 3
   },
   "file_extension": ".py",
   "mimetype": "text/x-python",
   "name": "python",
   "nbconvert_exporter": "python",
   "pygments_lexer": "ipython3",
   "version": "3.10.2"
  },
  "orig_nbformat": 4
 },
 "nbformat": 4,
 "nbformat_minor": 2
}
