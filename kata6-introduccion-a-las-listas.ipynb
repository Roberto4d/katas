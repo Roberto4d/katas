{
 "cells": [
  {
   "cell_type": "code",
   "execution_count": 20,
   "metadata": {},
   "outputs": [
    {
     "name": "stdout",
     "output_type": "stream",
     "text": [
      "['Mercurio', 'Venus', 'Tierra', 'Marte', 'Jupiter', 'Saturno', 'Urano', 'Neptuno']\n",
      "Por ahora nos falta un planeta solo tenemos  8 planetas\n",
      "['Mercurio', 'Venus', 'Tierra', 'Marte', 'Jupiter', 'Saturno', 'Urano', 'Neptuno', 'Pluton']\n",
      "En nuestro sistema solar existen  9 planetas\n"
     ]
    }
   ],
   "source": [
    "planets = ['Mercurio', 'Venus', 'Tierra', 'Marte', 'Jupiter', 'Saturno', 'Urano', 'Neptuno']\n",
    "print(planets)\n",
    "numerodeplanetas = len(planets)\n",
    "print('Por ahora nos falta un planeta solo tenemos ', numerodeplanetas, \"planetas\")\n",
    "planets.append('Pluton')\n",
    "numerodeplanetas = len(planets)\n",
    "print(planets)\n",
    "print('En nuestro sistema solar existen ', numerodeplanetas, \"planetas\")"
   ]
  },
  {
   "cell_type": "code",
   "execution_count": 16,
   "metadata": {},
   "outputs": [
    {
     "name": "stdout",
     "output_type": "stream",
     "text": [
      "los planetas mas cercanos al sol antes de Venus\n",
      "['Mercury']\n",
      "los planetas mas lejanos despues de Venus\n",
      "['Earth', 'Mars', 'Jupiter', 'Saturn', 'Neptune']\n"
     ]
    }
   ],
   "source": [
    "planets = ['Mercury', 'Venus', 'Earth', 'Mars', 'Jupiter', 'Saturn', 'Neptune']\n",
    "solicitarLetra = input('Agrega el planeta con la priemra letra en \"MAYUSCULA\" de algun planeta de nuestro sistema solar') \n",
    "planetsindex = planets.index(solicitarLetra)\n",
    "print('los planetas mas cercanos al sol antes de ' + solicitarLetra)\n",
    "print(planets[ 0 : planetsindex])\n",
    "\n",
    "print('los planetas mas lejanos despues de ' + solicitarLetra)\n",
    "print(planets[planetsindex + 1: ])"
   ]
  }
 ],
 "metadata": {
  "interpreter": {
   "hash": "aee8b7b246df8f9039afb4144a1f6fd8d2ca17a180786b69acc140d282b71a49"
  },
  "kernelspec": {
   "display_name": "Python 3.10.2 64-bit",
   "language": "python",
   "name": "python3"
  },
  "language_info": {
   "codemirror_mode": {
    "name": "ipython",
    "version": 3
   },
   "file_extension": ".py",
   "mimetype": "text/x-python",
   "name": "python",
   "nbconvert_exporter": "python",
   "pygments_lexer": "ipython3",
   "version": "3.10.2"
  },
  "orig_nbformat": 4
 },
 "nbformat": 4,
 "nbformat_minor": 2
}
