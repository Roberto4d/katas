{
 "cells": [
  {
   "cell_type": "code",
   "execution_count": 24,
   "metadata": {},
   "outputs": [
    {
     "name": "stdout",
     "output_type": "stream",
     "text": [
      "Un asteroide se acerca, y viaja a una velocidad de 49 km/s\n"
     ]
    }
   ],
   "source": [
    "velocidad = 49\n",
    "velocidadLimite = 25\n",
    "if velocidad > velocidadLimite:\n",
    "    print('Un asteroide se acerca, y viaja a una velocidad de ' + str(velocidad)+' km/s')\n",
    "else:\n",
    "    print(\"Don't be scared\")\n"
   ]
  },
  {
   "cell_type": "code",
   "execution_count": 25,
   "metadata": {},
   "outputs": [
    {
     "name": "stdout",
     "output_type": "stream",
     "text": [
      "No se vera la luz del asteroide\n"
     ]
    }
   ],
   "source": [
    "asteroideVelocidad = 19\n",
    "rayo = 20\n",
    "if asteroideVelocidad > rayo:\n",
    "    print('Busca el rayo de luz en el cielo')\n",
    "elif asteroideVelocidad == rayo:\n",
    "    print('Busca el rayo de luz en el cielo')\n",
    "else:\n",
    "    print('No se vera la luz del asteroide')"
   ]
  },
  {
   "cell_type": "code",
   "execution_count": 28,
   "metadata": {},
   "outputs": [
    {
     "name": "stdout",
     "output_type": "stream",
     "text": [
      "Peligo estamos ante una amenza por su tamano\n",
      "Estamos ante una amenaza por su velocidad\n",
      "Hay una luz en el cielo\n"
     ]
    }
   ],
   "source": [
    "velocidadAsteroide = 30\n",
    "tamanoAsteroide = 50\n",
    "if tamanoAsteroide < 25:\n",
    "    print('Se desintegrara antes de chocar con la tierra')\n",
    "elif tamanoAsteroide > 25 or tamanoAsteroide < 1000:\n",
    "    print('Peligo estamos ante una amenza por su tamano')\n",
    "if velocidadAsteroide > 25:\n",
    "    print('Estamos ante una amenaza por su velocidad')\n",
    "else:\n",
    "    print('No te preocupes nada que temer')\n",
    "if velocidadAsteroide > 20:\n",
    "    print('Hay una luz en el cielo')\n",
    "else:\n",
    "    print('No se vera la luz del asteroide')\n",
    "\n"
   ]
  }
 ],
 "metadata": {
  "interpreter": {
   "hash": "aee8b7b246df8f9039afb4144a1f6fd8d2ca17a180786b69acc140d282b71a49"
  },
  "kernelspec": {
   "display_name": "Python 3.10.2 64-bit",
   "language": "python",
   "name": "python3"
  },
  "language_info": {
   "codemirror_mode": {
    "name": "ipython",
    "version": 3
   },
   "file_extension": ".py",
   "mimetype": "text/x-python",
   "name": "python",
   "nbconvert_exporter": "python",
   "pygments_lexer": "ipython3",
   "version": "3.10.2"
  },
  "orig_nbformat": 4
 },
 "nbformat": 4,
 "nbformat_minor": 2
}
